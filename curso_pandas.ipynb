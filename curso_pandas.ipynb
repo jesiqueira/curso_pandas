{
  "nbformat": 4,
  "nbformat_minor": 0,
  "metadata": {
    "colab": {
      "name": "curso_pandas.ipynb",
      "provenance": [],
      "mount_file_id": "1DNAZtbQC_eZQilyU4JOPGMI-12UT_gwP",
      "authorship_tag": "ABX9TyNATZYcZRgN/FUDESNMOZB3",
      "include_colab_link": true
    },
    "kernelspec": {
      "name": "python3",
      "display_name": "Python 3"
    }
  },
  "cells": [
    {
      "cell_type": "markdown",
      "metadata": {
        "id": "view-in-github",
        "colab_type": "text"
      },
      "source": [
        "<a href=\"https://colab.research.google.com/github/jesiqueira/curso_pandas/blob/master/curso_pandas.ipynb\" target=\"_parent\"><img src=\"https://colab.research.google.com/assets/colab-badge.svg\" alt=\"Open In Colab\"/></a>"
      ]
    },
    {
      "cell_type": "markdown",
      "metadata": {
        "id": "RLUxs4-p9vzF"
      },
      "source": [
        "# 1 - Abrindo arquivo CSV\n"
      ]
    },
    {
      "cell_type": "code",
      "metadata": {
        "id": "udDjVwD992gQ"
      },
      "source": [
        "#importando pandas\n",
        "import pandas as pd\n"
      ],
      "execution_count": 2,
      "outputs": []
    },
    {
      "cell_type": "code",
      "metadata": {
        "id": "Jhfvrqdq-tev"
      },
      "source": [
        "# Abrindo arquivo \n",
        "df = pd.read_csv(\"/content/drive/MyDrive/Colab Notebooks/Dados/Dados_aula1.csv\", encoding= \"utf-8\", sep=\";\")"
      ],
      "execution_count": 39,
      "outputs": []
    },
    {
      "cell_type": "code",
      "metadata": {
        "id": "MGOFWL43D7Wv"
      },
      "source": [
        "# Especificar o cabeçalho do arquivo\n",
        "df = pd.read_csv(\"/content/drive/MyDrive/Colab Notebooks/Dados/Dados_aula1.csv\", encoding= \"utf-8\", sep=\";\", header=0)"
      ],
      "execution_count": 46,
      "outputs": []
    },
    {
      "cell_type": "code",
      "metadata": {
        "id": "0xIkqPt7EDU9"
      },
      "source": [
        "# Selecionando somente algumas colunas\n",
        "df = pd.read_csv(\"/content/drive/MyDrive/Colab Notebooks/Dados/Dados_aula1.csv\", encoding= \"utf-8\", sep=\";\", usecols=['City', 'AddressLine1'])"
      ],
      "execution_count": 48,
      "outputs": []
    },
    {
      "cell_type": "code",
      "metadata": {
        "id": "1X8lTYH-ELwk"
      },
      "source": [
        "#Lendo X linhas do Arquivo\n",
        "df = pd.read_csv(\"/content/drive/MyDrive/Colab Notebooks/Dados/Dados_aula1.csv\", encoding= \"utf-8\", sep=\";\", usecols=['City', 'AddressLine1'], nrows=200)"
      ],
      "execution_count": 50,
      "outputs": []
    },
    {
      "cell_type": "markdown",
      "metadata": {
        "id": "8-rLLsZrMHp8"
      },
      "source": [
        ""
      ]
    },
    {
      "cell_type": "code",
      "metadata": {
        "id": "Zpx4nWDpEPpB"
      },
      "source": [
        "#visualizar base\n",
        "df.head()"
      ],
      "execution_count": null,
      "outputs": []
    },
    {
      "cell_type": "code",
      "metadata": {
        "colab": {
          "base_uri": "https://localhost:8080/"
        },
        "id": "xD8_dr9VISaM",
        "outputId": "e5854e3e-9112-4719-a441-04af1e1ed837"
      },
      "source": [
        "#visualizar tamanho do arquivo linha x coluna\n",
        "df.shape"
      ],
      "execution_count": 52,
      "outputs": [
        {
          "output_type": "execute_result",
          "data": {
            "text/plain": [
              "(200, 2)"
            ]
          },
          "metadata": {
            "tags": []
          },
          "execution_count": 52
        }
      ]
    },
    {
      "cell_type": "markdown",
      "metadata": {
        "id": "WfFgpW0UTvqT"
      },
      "source": [
        "# 2 - Abrindo arquivo excel"
      ]
    },
    {
      "cell_type": "code",
      "metadata": {
        "id": "lTdCQCUaTz3f"
      },
      "source": [
        ""
      ],
      "execution_count": null,
      "outputs": []
    }
  ]
}