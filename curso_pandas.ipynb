{
  "nbformat": 4,
  "nbformat_minor": 0,
  "metadata": {
    "colab": {
      "name": "curso_pandas.ipynb",
      "provenance": [],
      "mount_file_id": "1DNAZtbQC_eZQilyU4JOPGMI-12UT_gwP",
      "authorship_tag": "ABX9TyNRJqbv+gAW5ly36BI1cnEZ",
      "include_colab_link": true
    },
    "kernelspec": {
      "name": "python3",
      "display_name": "Python 3"
    }
  },
  "cells": [
    {
      "cell_type": "markdown",
      "metadata": {
        "id": "view-in-github",
        "colab_type": "text"
      },
      "source": [
        "<a href=\"https://colab.research.google.com/github/jesiqueira/curso_pandas/blob/master/curso_pandas.ipynb\" target=\"_parent\"><img src=\"https://colab.research.google.com/assets/colab-badge.svg\" alt=\"Open In Colab\"/></a>"
      ]
    },
    {
      "cell_type": "markdown",
      "metadata": {
        "id": "RLUxs4-p9vzF"
      },
      "source": [
        "# 1 - Abrindo arquivo CSV\n"
      ]
    },
    {
      "cell_type": "code",
      "metadata": {
        "id": "udDjVwD992gQ"
      },
      "source": [
        "#importando pandas\n",
        "import pandas as pd\n"
      ],
      "execution_count": 2,
      "outputs": []
    },
    {
      "cell_type": "code",
      "metadata": {
        "id": "Jhfvrqdq-tev"
      },
      "source": [
        "# Abrindo arquivo \n",
        "df = pd.read_csv(\"/content/drive/MyDrive/Colab Notebooks/Dados/Dados_aula1.csv\", encoding= \"utf-8\", sep=\";\")"
      ],
      "execution_count": 39,
      "outputs": []
    },
    {
      "cell_type": "code",
      "metadata": {
        "id": "MGOFWL43D7Wv"
      },
      "source": [
        "# Especificar o cabeçalho do arquivo\n",
        "df = pd.read_csv(\"/content/drive/MyDrive/Colab Notebooks/Dados/Dados_aula1.csv\", encoding= \"utf-8\", sep=\";\", header=0)"
      ],
      "execution_count": 46,
      "outputs": []
    },
    {
      "cell_type": "code",
      "metadata": {
        "id": "0xIkqPt7EDU9"
      },
      "source": [
        "# Selecionando somente algumas colunas\n",
        "df = pd.read_csv(\"/content/drive/MyDrive/Colab Notebooks/Dados/Dados_aula1.csv\", encoding= \"utf-8\", sep=\";\", usecols=['City', 'AddressLine1'])"
      ],
      "execution_count": 48,
      "outputs": []
    },
    {
      "cell_type": "code",
      "metadata": {
        "id": "1X8lTYH-ELwk"
      },
      "source": [
        "#Lendo X linhas do Arquivo\n",
        "df = pd.read_csv(\"/content/drive/MyDrive/Colab Notebooks/Dados/Dados_aula1.csv\", encoding= \"utf-8\", sep=\";\", usecols=['City', 'AddressLine1'], nrows=200)"
      ],
      "execution_count": 50,
      "outputs": []
    },
    {
      "cell_type": "markdown",
      "metadata": {
        "id": "8-rLLsZrMHp8"
      },
      "source": [
        ""
      ]
    },
    {
      "cell_type": "code",
      "metadata": {
        "id": "Zpx4nWDpEPpB"
      },
      "source": [
        "#visualizar base\n",
        "df.head()"
      ],
      "execution_count": null,
      "outputs": []
    },
    {
      "cell_type": "code",
      "metadata": {
        "colab": {
          "base_uri": "https://localhost:8080/"
        },
        "id": "xD8_dr9VISaM",
        "outputId": "e5854e3e-9112-4719-a441-04af1e1ed837"
      },
      "source": [
        "#visualizar tamanho do arquivo linha x coluna\n",
        "df.shape"
      ],
      "execution_count": 52,
      "outputs": [
        {
          "output_type": "execute_result",
          "data": {
            "text/plain": [
              "(200, 2)"
            ]
          },
          "metadata": {
            "tags": []
          },
          "execution_count": 52
        }
      ]
    },
    {
      "cell_type": "markdown",
      "metadata": {
        "id": "WfFgpW0UTvqT"
      },
      "source": [
        "# 2 - Abrindo arquivo excel"
      ]
    },
    {
      "cell_type": "code",
      "metadata": {
        "id": "lTdCQCUaTz3f"
      },
      "source": [
        "# Abrindo arquivo excel \n",
        "df = pd.read_excel(\"/content/drive/MyDrive/Colab Notebooks/Dados/Dados_Excel.xlsx\")"
      ],
      "execution_count": 59,
      "outputs": []
    },
    {
      "cell_type": "code",
      "metadata": {
        "id": "P04rMme-WmAV"
      },
      "source": [
        "# Especificar qual aba abrir\n",
        "df = pd.read_excel(\"/content/drive/MyDrive/Colab Notebooks/Dados/Dados_Excel.xlsx\", sheet_name=0)"
      ],
      "execution_count": 64,
      "outputs": []
    },
    {
      "cell_type": "code",
      "metadata": {
        "id": "Q5pF8uCyXa5c"
      },
      "source": [
        "# Verifcar o nomes das abras com sheet_names\n",
        "arquivo = pd.ExcelFile(\"/content/drive/MyDrive/Colab Notebooks/Dados/Dados_Excel.xlsx\")"
      ],
      "execution_count": 67,
      "outputs": []
    },
    {
      "cell_type": "code",
      "metadata": {
        "colab": {
          "base_uri": "https://localhost:8080/"
        },
        "id": "NejWQKUnWRvJ",
        "outputId": "a52be072-2452-4a84-d09e-af6211327d87"
      },
      "source": [
        "arquivo.sheet_names"
      ],
      "execution_count": 69,
      "outputs": [
        {
          "output_type": "execute_result",
          "data": {
            "text/plain": [
              "['Plan1', 'Aba2']"
            ]
          },
          "metadata": {
            "tags": []
          },
          "execution_count": 69
        }
      ]
    },
    {
      "cell_type": "code",
      "metadata": {
        "id": "oflhgua1XD4r"
      },
      "source": [
        "# usando PARSE para selecionar abas\n",
        "aba1 = arquivo.parse('Plan1')\n",
        "aba2 = arquivo.parse('Aba2')\n"
      ],
      "execution_count": 72,
      "outputs": []
    },
    {
      "cell_type": "code",
      "metadata": {
        "id": "ecJYdeiMYsyY"
      },
      "source": [
        "aba1.head()"
      ],
      "execution_count": null,
      "outputs": []
    },
    {
      "cell_type": "code",
      "metadata": {
        "id": "4bSqXWR2YS1t"
      },
      "source": [
        "aba2.head()"
      ],
      "execution_count": null,
      "outputs": []
    },
    {
      "cell_type": "code",
      "metadata": {
        "id": "lpQT8sbmYzik"
      },
      "source": [
        "df.head()"
      ],
      "execution_count": null,
      "outputs": []
    },
    {
      "cell_type": "markdown",
      "metadata": {
        "id": "Bn5aFE2haOhJ"
      },
      "source": [
        "# 3 - Selecionando Dados do Pandas 1"
      ]
    },
    {
      "cell_type": "code",
      "metadata": {
        "colab": {
          "base_uri": "https://localhost:8080/",
          "height": 204
        },
        "id": "zLiMECZuaVks",
        "outputId": "09c7e837-826d-42a7-d71c-dde81ff78653"
      },
      "source": [
        "# Carregar dados\n",
        "df = pd.read_excel(\"/content/drive/MyDrive/Colab Notebooks/Dados/Dados_Excel.xlsx\")\n",
        "df.head()"
      ],
      "execution_count": 77,
      "outputs": [
        {
          "output_type": "execute_result",
          "data": {
            "text/html": [
              "<div>\n",
              "<style scoped>\n",
              "    .dataframe tbody tr th:only-of-type {\n",
              "        vertical-align: middle;\n",
              "    }\n",
              "\n",
              "    .dataframe tbody tr th {\n",
              "        vertical-align: top;\n",
              "    }\n",
              "\n",
              "    .dataframe thead th {\n",
              "        text-align: right;\n",
              "    }\n",
              "</style>\n",
              "<table border=\"1\" class=\"dataframe\">\n",
              "  <thead>\n",
              "    <tr style=\"text-align: right;\">\n",
              "      <th></th>\n",
              "      <th>AddressID</th>\n",
              "      <th>AddressLine1</th>\n",
              "      <th>AddressLine2</th>\n",
              "      <th>City</th>\n",
              "      <th>StateProvinceID</th>\n",
              "      <th>PostalCode</th>\n",
              "      <th>SpatialLocation</th>\n",
              "      <th>rowguid</th>\n",
              "      <th>ModifiedDate</th>\n",
              "    </tr>\n",
              "  </thead>\n",
              "  <tbody>\n",
              "    <tr>\n",
              "      <th>0</th>\n",
              "      <td>1</td>\n",
              "      <td>1970 Napa Ct.</td>\n",
              "      <td>NaN</td>\n",
              "      <td>Bothell</td>\n",
              "      <td>79</td>\n",
              "      <td>98011</td>\n",
              "      <td>0xE6100000010CAE8BFC28BCE4474067A89189898A5EC0</td>\n",
              "      <td>9AADCB0D-36CF-483F-84D8-585C2D4EC6E9</td>\n",
              "      <td>2007-12-04 00:00:00.000</td>\n",
              "    </tr>\n",
              "    <tr>\n",
              "      <th>1</th>\n",
              "      <td>2</td>\n",
              "      <td>9833 Mt. Dias Blv.</td>\n",
              "      <td>NaN</td>\n",
              "      <td>Bothell</td>\n",
              "      <td>79</td>\n",
              "      <td>98011</td>\n",
              "      <td>0xE6100000010CD6FA851AE6D74740BC262A0A03905EC0</td>\n",
              "      <td>32A54B9E-E034-4BFB-B573-A71CDE60D8C0</td>\n",
              "      <td>2008-11-30 00:00:00.000</td>\n",
              "    </tr>\n",
              "    <tr>\n",
              "      <th>2</th>\n",
              "      <td>3</td>\n",
              "      <td>7484 Roundtree Drive</td>\n",
              "      <td>NaN</td>\n",
              "      <td>Bothell</td>\n",
              "      <td>79</td>\n",
              "      <td>98011</td>\n",
              "      <td>0xE6100000010C18E304C4ADE14740DA930C7893915EC0</td>\n",
              "      <td>4C506923-6D1B-452C-A07C-BAA6F5B142A4</td>\n",
              "      <td>2013-03-07 00:00:00.000</td>\n",
              "    </tr>\n",
              "    <tr>\n",
              "      <th>3</th>\n",
              "      <td>4</td>\n",
              "      <td>9539 Glenside Dr</td>\n",
              "      <td>NaN</td>\n",
              "      <td>Bothell</td>\n",
              "      <td>79</td>\n",
              "      <td>98011</td>\n",
              "      <td>0xE6100000010C813A0D5F9FDE474011A5C28A7C955EC0</td>\n",
              "      <td>E5946C78-4BCC-477F-9FA1-CC09DE16A880</td>\n",
              "      <td>2009-02-03 00:00:00.000</td>\n",
              "    </tr>\n",
              "    <tr>\n",
              "      <th>4</th>\n",
              "      <td>5</td>\n",
              "      <td>1226 Shoe St.</td>\n",
              "      <td>NaN</td>\n",
              "      <td>Bothell</td>\n",
              "      <td>79</td>\n",
              "      <td>98011</td>\n",
              "      <td>0xE6100000010C61C64D8ABBD94740C460EA3FD8855EC0</td>\n",
              "      <td>FBAFF937-4A97-4AF0-81FD-B849900E9BB0</td>\n",
              "      <td>2008-12-19 00:00:00.000</td>\n",
              "    </tr>\n",
              "  </tbody>\n",
              "</table>\n",
              "</div>"
            ],
            "text/plain": [
              "   AddressID  ...             ModifiedDate\n",
              "0          1  ...  2007-12-04 00:00:00.000\n",
              "1          2  ...  2008-11-30 00:00:00.000\n",
              "2          3  ...  2013-03-07 00:00:00.000\n",
              "3          4  ...  2009-02-03 00:00:00.000\n",
              "4          5  ...  2008-12-19 00:00:00.000\n",
              "\n",
              "[5 rows x 9 columns]"
            ]
          },
          "metadata": {
            "tags": []
          },
          "execution_count": 77
        }
      ]
    },
    {
      "cell_type": "code",
      "metadata": {
        "colab": {
          "base_uri": "https://localhost:8080/"
        },
        "id": "EoFEkWs1amyG",
        "outputId": "35ea9ac3-571a-4619-ab7e-a2c998549d89"
      },
      "source": [
        "# Selecionar 1 ou mais colunas por indice\n",
        "df['AddressLine1'].head()"
      ],
      "execution_count": 84,
      "outputs": [
        {
          "output_type": "execute_result",
          "data": {
            "text/plain": [
              "0           1970 Napa Ct.\n",
              "1      9833 Mt. Dias Blv.\n",
              "2    7484 Roundtree Drive\n",
              "3        9539 Glenside Dr\n",
              "4           1226 Shoe St.\n",
              "Name: AddressLine1, dtype: object"
            ]
          },
          "metadata": {
            "tags": []
          },
          "execution_count": 84
        }
      ]
    },
    {
      "cell_type": "code",
      "metadata": {
        "colab": {
          "base_uri": "https://localhost:8080/",
          "height": 204
        },
        "id": "L_i9VmBybvlO",
        "outputId": "e3ad6d13-4511-4d76-aab9-3d7be5f5e104"
      },
      "source": [
        "df[['AddressLine1', 'ModifiedDate']].head()"
      ],
      "execution_count": 86,
      "outputs": [
        {
          "output_type": "execute_result",
          "data": {
            "text/html": [
              "<div>\n",
              "<style scoped>\n",
              "    .dataframe tbody tr th:only-of-type {\n",
              "        vertical-align: middle;\n",
              "    }\n",
              "\n",
              "    .dataframe tbody tr th {\n",
              "        vertical-align: top;\n",
              "    }\n",
              "\n",
              "    .dataframe thead th {\n",
              "        text-align: right;\n",
              "    }\n",
              "</style>\n",
              "<table border=\"1\" class=\"dataframe\">\n",
              "  <thead>\n",
              "    <tr style=\"text-align: right;\">\n",
              "      <th></th>\n",
              "      <th>AddressLine1</th>\n",
              "      <th>ModifiedDate</th>\n",
              "    </tr>\n",
              "  </thead>\n",
              "  <tbody>\n",
              "    <tr>\n",
              "      <th>0</th>\n",
              "      <td>1970 Napa Ct.</td>\n",
              "      <td>2007-12-04 00:00:00.000</td>\n",
              "    </tr>\n",
              "    <tr>\n",
              "      <th>1</th>\n",
              "      <td>9833 Mt. Dias Blv.</td>\n",
              "      <td>2008-11-30 00:00:00.000</td>\n",
              "    </tr>\n",
              "    <tr>\n",
              "      <th>2</th>\n",
              "      <td>7484 Roundtree Drive</td>\n",
              "      <td>2013-03-07 00:00:00.000</td>\n",
              "    </tr>\n",
              "    <tr>\n",
              "      <th>3</th>\n",
              "      <td>9539 Glenside Dr</td>\n",
              "      <td>2009-02-03 00:00:00.000</td>\n",
              "    </tr>\n",
              "    <tr>\n",
              "      <th>4</th>\n",
              "      <td>1226 Shoe St.</td>\n",
              "      <td>2008-12-19 00:00:00.000</td>\n",
              "    </tr>\n",
              "  </tbody>\n",
              "</table>\n",
              "</div>"
            ],
            "text/plain": [
              "           AddressLine1             ModifiedDate\n",
              "0         1970 Napa Ct.  2007-12-04 00:00:00.000\n",
              "1    9833 Mt. Dias Blv.  2008-11-30 00:00:00.000\n",
              "2  7484 Roundtree Drive  2013-03-07 00:00:00.000\n",
              "3      9539 Glenside Dr  2009-02-03 00:00:00.000\n",
              "4         1226 Shoe St.  2008-12-19 00:00:00.000"
            ]
          },
          "metadata": {
            "tags": []
          },
          "execution_count": 86
        }
      ]
    },
    {
      "cell_type": "code",
      "metadata": {
        "colab": {
          "base_uri": "https://localhost:8080/"
        },
        "id": "0bTpZngga3rB",
        "outputId": "e3dc133a-6f15-49fa-b2ac-76df0724c238"
      },
      "source": [
        "# Selecionar por notação ponto\n",
        "df.AddressLine1.head()"
      ],
      "execution_count": 88,
      "outputs": [
        {
          "output_type": "execute_result",
          "data": {
            "text/plain": [
              "0           1970 Napa Ct.\n",
              "1      9833 Mt. Dias Blv.\n",
              "2    7484 Roundtree Drive\n",
              "3        9539 Glenside Dr\n",
              "4           1226 Shoe St.\n",
              "Name: AddressLine1, dtype: object"
            ]
          },
          "metadata": {
            "tags": []
          },
          "execution_count": 88
        }
      ]
    },
    {
      "cell_type": "code",
      "metadata": {
        "colab": {
          "base_uri": "https://localhost:8080/",
          "height": 204
        },
        "id": "1qXm_ozoa-kC",
        "outputId": "e583ada7-3fc0-4cc5-909c-be54955c22de"
      },
      "source": [
        "# Adionar coluna nova\n",
        "df['Endereço_Completo'] = df['AddressLine1'] + \" - \" + df['City']\n",
        "df.head()"
      ],
      "execution_count": 92,
      "outputs": [
        {
          "output_type": "execute_result",
          "data": {
            "text/html": [
              "<div>\n",
              "<style scoped>\n",
              "    .dataframe tbody tr th:only-of-type {\n",
              "        vertical-align: middle;\n",
              "    }\n",
              "\n",
              "    .dataframe tbody tr th {\n",
              "        vertical-align: top;\n",
              "    }\n",
              "\n",
              "    .dataframe thead th {\n",
              "        text-align: right;\n",
              "    }\n",
              "</style>\n",
              "<table border=\"1\" class=\"dataframe\">\n",
              "  <thead>\n",
              "    <tr style=\"text-align: right;\">\n",
              "      <th></th>\n",
              "      <th>AddressID</th>\n",
              "      <th>AddressLine1</th>\n",
              "      <th>AddressLine2</th>\n",
              "      <th>City</th>\n",
              "      <th>StateProvinceID</th>\n",
              "      <th>PostalCode</th>\n",
              "      <th>SpatialLocation</th>\n",
              "      <th>rowguid</th>\n",
              "      <th>ModifiedDate</th>\n",
              "      <th>Endereço_Completo</th>\n",
              "    </tr>\n",
              "  </thead>\n",
              "  <tbody>\n",
              "    <tr>\n",
              "      <th>0</th>\n",
              "      <td>1</td>\n",
              "      <td>1970 Napa Ct.</td>\n",
              "      <td>NaN</td>\n",
              "      <td>Bothell</td>\n",
              "      <td>79</td>\n",
              "      <td>98011</td>\n",
              "      <td>0xE6100000010CAE8BFC28BCE4474067A89189898A5EC0</td>\n",
              "      <td>9AADCB0D-36CF-483F-84D8-585C2D4EC6E9</td>\n",
              "      <td>2007-12-04 00:00:00.000</td>\n",
              "      <td>1970 Napa Ct. - Bothell</td>\n",
              "    </tr>\n",
              "    <tr>\n",
              "      <th>1</th>\n",
              "      <td>2</td>\n",
              "      <td>9833 Mt. Dias Blv.</td>\n",
              "      <td>NaN</td>\n",
              "      <td>Bothell</td>\n",
              "      <td>79</td>\n",
              "      <td>98011</td>\n",
              "      <td>0xE6100000010CD6FA851AE6D74740BC262A0A03905EC0</td>\n",
              "      <td>32A54B9E-E034-4BFB-B573-A71CDE60D8C0</td>\n",
              "      <td>2008-11-30 00:00:00.000</td>\n",
              "      <td>9833 Mt. Dias Blv. - Bothell</td>\n",
              "    </tr>\n",
              "    <tr>\n",
              "      <th>2</th>\n",
              "      <td>3</td>\n",
              "      <td>7484 Roundtree Drive</td>\n",
              "      <td>NaN</td>\n",
              "      <td>Bothell</td>\n",
              "      <td>79</td>\n",
              "      <td>98011</td>\n",
              "      <td>0xE6100000010C18E304C4ADE14740DA930C7893915EC0</td>\n",
              "      <td>4C506923-6D1B-452C-A07C-BAA6F5B142A4</td>\n",
              "      <td>2013-03-07 00:00:00.000</td>\n",
              "      <td>7484 Roundtree Drive - Bothell</td>\n",
              "    </tr>\n",
              "    <tr>\n",
              "      <th>3</th>\n",
              "      <td>4</td>\n",
              "      <td>9539 Glenside Dr</td>\n",
              "      <td>NaN</td>\n",
              "      <td>Bothell</td>\n",
              "      <td>79</td>\n",
              "      <td>98011</td>\n",
              "      <td>0xE6100000010C813A0D5F9FDE474011A5C28A7C955EC0</td>\n",
              "      <td>E5946C78-4BCC-477F-9FA1-CC09DE16A880</td>\n",
              "      <td>2009-02-03 00:00:00.000</td>\n",
              "      <td>9539 Glenside Dr - Bothell</td>\n",
              "    </tr>\n",
              "    <tr>\n",
              "      <th>4</th>\n",
              "      <td>5</td>\n",
              "      <td>1226 Shoe St.</td>\n",
              "      <td>NaN</td>\n",
              "      <td>Bothell</td>\n",
              "      <td>79</td>\n",
              "      <td>98011</td>\n",
              "      <td>0xE6100000010C61C64D8ABBD94740C460EA3FD8855EC0</td>\n",
              "      <td>FBAFF937-4A97-4AF0-81FD-B849900E9BB0</td>\n",
              "      <td>2008-12-19 00:00:00.000</td>\n",
              "      <td>1226 Shoe St. - Bothell</td>\n",
              "    </tr>\n",
              "  </tbody>\n",
              "</table>\n",
              "</div>"
            ],
            "text/plain": [
              "   AddressID  ...               Endereço_Completo\n",
              "0          1  ...         1970 Napa Ct. - Bothell\n",
              "1          2  ...    9833 Mt. Dias Blv. - Bothell\n",
              "2          3  ...  7484 Roundtree Drive - Bothell\n",
              "3          4  ...      9539 Glenside Dr - Bothell\n",
              "4          5  ...         1226 Shoe St. - Bothell\n",
              "\n",
              "[5 rows x 10 columns]"
            ]
          },
          "metadata": {
            "tags": []
          },
          "execution_count": 92
        }
      ]
    }
  ]
}