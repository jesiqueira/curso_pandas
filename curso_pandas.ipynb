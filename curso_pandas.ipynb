{
  "nbformat": 4,
  "nbformat_minor": 0,
  "metadata": {
    "colab": {
      "name": "curso_pandas.ipynb",
      "provenance": [],
      "mount_file_id": "1DNAZtbQC_eZQilyU4JOPGMI-12UT_gwP",
      "authorship_tag": "ABX9TyOijdb2M/blbZ9Q3wuJ+P9l",
      "include_colab_link": true
    },
    "kernelspec": {
      "name": "python3",
      "display_name": "Python 3"
    }
  },
  "cells": [
    {
      "cell_type": "markdown",
      "metadata": {
        "id": "view-in-github",
        "colab_type": "text"
      },
      "source": [
        "<a href=\"https://colab.research.google.com/github/jesiqueira/curso_pandas/blob/master/curso_pandas.ipynb\" target=\"_parent\"><img src=\"https://colab.research.google.com/assets/colab-badge.svg\" alt=\"Open In Colab\"/></a>"
      ]
    },
    {
      "cell_type": "markdown",
      "metadata": {
        "id": "RLUxs4-p9vzF"
      },
      "source": [
        "# 1 - Abrindo arquivo CSV\n"
      ]
    },
    {
      "cell_type": "code",
      "metadata": {
        "id": "udDjVwD992gQ"
      },
      "source": [
        "#importando pandas\n",
        "import pandas as pd\n"
      ],
      "execution_count": null,
      "outputs": []
    },
    {
      "cell_type": "code",
      "metadata": {
        "id": "Jhfvrqdq-tev"
      },
      "source": [
        "# Abrindo arquivo \n",
        "df = pd.read_csv(\"/content/drive/MyDrive/Colab Notebooks/Dados/Dados_aula1.csv\", encoding= \"utf-8\", sep=\";\")"
      ],
      "execution_count": null,
      "outputs": []
    },
    {
      "cell_type": "code",
      "metadata": {
        "id": "MGOFWL43D7Wv"
      },
      "source": [
        "# Especificar o cabeçalho do arquivo\n",
        "df = pd.read_csv(\"/content/drive/MyDrive/Colab Notebooks/Dados/Dados_aula1.csv\", encoding= \"utf-8\", sep=\";\", header=0)"
      ],
      "execution_count": null,
      "outputs": []
    },
    {
      "cell_type": "code",
      "metadata": {
        "id": "0xIkqPt7EDU9"
      },
      "source": [
        "# Selecionando somente algumas colunas\n",
        "df = pd.read_csv(\"/content/drive/MyDrive/Colab Notebooks/Dados/Dados_aula1.csv\", encoding= \"utf-8\", sep=\";\", usecols=['City', 'AddressLine1'])"
      ],
      "execution_count": null,
      "outputs": []
    },
    {
      "cell_type": "code",
      "metadata": {
        "id": "1X8lTYH-ELwk"
      },
      "source": [
        "#Lendo X linhas do Arquivo\n",
        "df = pd.read_csv(\"/content/drive/MyDrive/Colab Notebooks/Dados/Dados_aula1.csv\", encoding= \"utf-8\", sep=\";\", usecols=['City', 'AddressLine1'], nrows=200)"
      ],
      "execution_count": null,
      "outputs": []
    },
    {
      "cell_type": "markdown",
      "metadata": {
        "id": "8-rLLsZrMHp8"
      },
      "source": [
        ""
      ]
    },
    {
      "cell_type": "code",
      "metadata": {
        "id": "Zpx4nWDpEPpB"
      },
      "source": [
        "#visualizar base\n",
        "df.head()"
      ],
      "execution_count": null,
      "outputs": []
    },
    {
      "cell_type": "code",
      "metadata": {
        "colab": {
          "base_uri": "https://localhost:8080/"
        },
        "id": "xD8_dr9VISaM",
        "outputId": "e5854e3e-9112-4719-a441-04af1e1ed837"
      },
      "source": [
        "#visualizar tamanho do arquivo linha x coluna\n",
        "df.shape"
      ],
      "execution_count": null,
      "outputs": [
        {
          "output_type": "execute_result",
          "data": {
            "text/plain": [
              "(200, 2)"
            ]
          },
          "metadata": {
            "tags": []
          },
          "execution_count": 52
        }
      ]
    },
    {
      "cell_type": "markdown",
      "metadata": {
        "id": "WfFgpW0UTvqT"
      },
      "source": [
        "# 2 - Abrindo arquivo excel"
      ]
    },
    {
      "cell_type": "code",
      "metadata": {
        "id": "lTdCQCUaTz3f"
      },
      "source": [
        "# Abrindo arquivo excel \n",
        "df = pd.read_excel(\"/content/drive/MyDrive/Colab Notebooks/Dados/Dados_Excel.xlsx\")"
      ],
      "execution_count": null,
      "outputs": []
    },
    {
      "cell_type": "code",
      "metadata": {
        "id": "P04rMme-WmAV"
      },
      "source": [
        "# Especificar qual aba abrir\n",
        "df = pd.read_excel(\"/content/drive/MyDrive/Colab Notebooks/Dados/Dados_Excel.xlsx\", sheet_name=0)"
      ],
      "execution_count": null,
      "outputs": []
    },
    {
      "cell_type": "code",
      "metadata": {
        "id": "Q5pF8uCyXa5c"
      },
      "source": [
        "# Verifcar o nomes das abras com sheet_names\n",
        "arquivo = pd.ExcelFile(\"/content/drive/MyDrive/Colab Notebooks/Dados/Dados_Excel.xlsx\")"
      ],
      "execution_count": null,
      "outputs": []
    },
    {
      "cell_type": "code",
      "metadata": {
        "colab": {
          "base_uri": "https://localhost:8080/"
        },
        "id": "NejWQKUnWRvJ",
        "outputId": "a52be072-2452-4a84-d09e-af6211327d87"
      },
      "source": [
        "arquivo.sheet_names"
      ],
      "execution_count": null,
      "outputs": [
        {
          "output_type": "execute_result",
          "data": {
            "text/plain": [
              "['Plan1', 'Aba2']"
            ]
          },
          "metadata": {
            "tags": []
          },
          "execution_count": 69
        }
      ]
    },
    {
      "cell_type": "code",
      "metadata": {
        "id": "oflhgua1XD4r"
      },
      "source": [
        "# usando PARSE para selecionar abas\n",
        "aba1 = arquivo.parse('Plan1')\n",
        "aba2 = arquivo.parse('Aba2')\n"
      ],
      "execution_count": null,
      "outputs": []
    },
    {
      "cell_type": "code",
      "metadata": {
        "id": "ecJYdeiMYsyY"
      },
      "source": [
        "aba1.head()"
      ],
      "execution_count": null,
      "outputs": []
    },
    {
      "cell_type": "code",
      "metadata": {
        "id": "4bSqXWR2YS1t"
      },
      "source": [
        "aba2.head()"
      ],
      "execution_count": null,
      "outputs": []
    },
    {
      "cell_type": "code",
      "metadata": {
        "id": "lpQT8sbmYzik"
      },
      "source": [
        "df.head()"
      ],
      "execution_count": null,
      "outputs": []
    },
    {
      "cell_type": "markdown",
      "metadata": {
        "id": "Bn5aFE2haOhJ"
      },
      "source": [
        "# 3 - Selecionando Dados do Pandas 1"
      ]
    },
    {
      "cell_type": "code",
      "metadata": {
        "colab": {
          "base_uri": "https://localhost:8080/",
          "height": 204
        },
        "id": "zLiMECZuaVks",
        "outputId": "09c7e837-826d-42a7-d71c-dde81ff78653"
      },
      "source": [
        "# Carregar dados\n",
        "df = pd.read_excel(\"/content/drive/MyDrive/Colab Notebooks/Dados/Dados_Excel.xlsx\")\n",
        "df.head()"
      ],
      "execution_count": null,
      "outputs": [
        {
          "output_type": "execute_result",
          "data": {
            "text/html": [
              "<div>\n",
              "<style scoped>\n",
              "    .dataframe tbody tr th:only-of-type {\n",
              "        vertical-align: middle;\n",
              "    }\n",
              "\n",
              "    .dataframe tbody tr th {\n",
              "        vertical-align: top;\n",
              "    }\n",
              "\n",
              "    .dataframe thead th {\n",
              "        text-align: right;\n",
              "    }\n",
              "</style>\n",
              "<table border=\"1\" class=\"dataframe\">\n",
              "  <thead>\n",
              "    <tr style=\"text-align: right;\">\n",
              "      <th></th>\n",
              "      <th>AddressID</th>\n",
              "      <th>AddressLine1</th>\n",
              "      <th>AddressLine2</th>\n",
              "      <th>City</th>\n",
              "      <th>StateProvinceID</th>\n",
              "      <th>PostalCode</th>\n",
              "      <th>SpatialLocation</th>\n",
              "      <th>rowguid</th>\n",
              "      <th>ModifiedDate</th>\n",
              "    </tr>\n",
              "  </thead>\n",
              "  <tbody>\n",
              "    <tr>\n",
              "      <th>0</th>\n",
              "      <td>1</td>\n",
              "      <td>1970 Napa Ct.</td>\n",
              "      <td>NaN</td>\n",
              "      <td>Bothell</td>\n",
              "      <td>79</td>\n",
              "      <td>98011</td>\n",
              "      <td>0xE6100000010CAE8BFC28BCE4474067A89189898A5EC0</td>\n",
              "      <td>9AADCB0D-36CF-483F-84D8-585C2D4EC6E9</td>\n",
              "      <td>2007-12-04 00:00:00.000</td>\n",
              "    </tr>\n",
              "    <tr>\n",
              "      <th>1</th>\n",
              "      <td>2</td>\n",
              "      <td>9833 Mt. Dias Blv.</td>\n",
              "      <td>NaN</td>\n",
              "      <td>Bothell</td>\n",
              "      <td>79</td>\n",
              "      <td>98011</td>\n",
              "      <td>0xE6100000010CD6FA851AE6D74740BC262A0A03905EC0</td>\n",
              "      <td>32A54B9E-E034-4BFB-B573-A71CDE60D8C0</td>\n",
              "      <td>2008-11-30 00:00:00.000</td>\n",
              "    </tr>\n",
              "    <tr>\n",
              "      <th>2</th>\n",
              "      <td>3</td>\n",
              "      <td>7484 Roundtree Drive</td>\n",
              "      <td>NaN</td>\n",
              "      <td>Bothell</td>\n",
              "      <td>79</td>\n",
              "      <td>98011</td>\n",
              "      <td>0xE6100000010C18E304C4ADE14740DA930C7893915EC0</td>\n",
              "      <td>4C506923-6D1B-452C-A07C-BAA6F5B142A4</td>\n",
              "      <td>2013-03-07 00:00:00.000</td>\n",
              "    </tr>\n",
              "    <tr>\n",
              "      <th>3</th>\n",
              "      <td>4</td>\n",
              "      <td>9539 Glenside Dr</td>\n",
              "      <td>NaN</td>\n",
              "      <td>Bothell</td>\n",
              "      <td>79</td>\n",
              "      <td>98011</td>\n",
              "      <td>0xE6100000010C813A0D5F9FDE474011A5C28A7C955EC0</td>\n",
              "      <td>E5946C78-4BCC-477F-9FA1-CC09DE16A880</td>\n",
              "      <td>2009-02-03 00:00:00.000</td>\n",
              "    </tr>\n",
              "    <tr>\n",
              "      <th>4</th>\n",
              "      <td>5</td>\n",
              "      <td>1226 Shoe St.</td>\n",
              "      <td>NaN</td>\n",
              "      <td>Bothell</td>\n",
              "      <td>79</td>\n",
              "      <td>98011</td>\n",
              "      <td>0xE6100000010C61C64D8ABBD94740C460EA3FD8855EC0</td>\n",
              "      <td>FBAFF937-4A97-4AF0-81FD-B849900E9BB0</td>\n",
              "      <td>2008-12-19 00:00:00.000</td>\n",
              "    </tr>\n",
              "  </tbody>\n",
              "</table>\n",
              "</div>"
            ],
            "text/plain": [
              "   AddressID  ...             ModifiedDate\n",
              "0          1  ...  2007-12-04 00:00:00.000\n",
              "1          2  ...  2008-11-30 00:00:00.000\n",
              "2          3  ...  2013-03-07 00:00:00.000\n",
              "3          4  ...  2009-02-03 00:00:00.000\n",
              "4          5  ...  2008-12-19 00:00:00.000\n",
              "\n",
              "[5 rows x 9 columns]"
            ]
          },
          "metadata": {
            "tags": []
          },
          "execution_count": 77
        }
      ]
    },
    {
      "cell_type": "code",
      "metadata": {
        "colab": {
          "base_uri": "https://localhost:8080/"
        },
        "id": "EoFEkWs1amyG",
        "outputId": "35ea9ac3-571a-4619-ab7e-a2c998549d89"
      },
      "source": [
        "# Selecionar 1 ou mais colunas por indice\n",
        "df['AddressLine1'].head()"
      ],
      "execution_count": null,
      "outputs": [
        {
          "output_type": "execute_result",
          "data": {
            "text/plain": [
              "0           1970 Napa Ct.\n",
              "1      9833 Mt. Dias Blv.\n",
              "2    7484 Roundtree Drive\n",
              "3        9539 Glenside Dr\n",
              "4           1226 Shoe St.\n",
              "Name: AddressLine1, dtype: object"
            ]
          },
          "metadata": {
            "tags": []
          },
          "execution_count": 84
        }
      ]
    },
    {
      "cell_type": "code",
      "metadata": {
        "colab": {
          "base_uri": "https://localhost:8080/",
          "height": 204
        },
        "id": "L_i9VmBybvlO",
        "outputId": "e3ad6d13-4511-4d76-aab9-3d7be5f5e104"
      },
      "source": [
        "df[['AddressLine1', 'ModifiedDate']].head()"
      ],
      "execution_count": null,
      "outputs": [
        {
          "output_type": "execute_result",
          "data": {
            "text/html": [
              "<div>\n",
              "<style scoped>\n",
              "    .dataframe tbody tr th:only-of-type {\n",
              "        vertical-align: middle;\n",
              "    }\n",
              "\n",
              "    .dataframe tbody tr th {\n",
              "        vertical-align: top;\n",
              "    }\n",
              "\n",
              "    .dataframe thead th {\n",
              "        text-align: right;\n",
              "    }\n",
              "</style>\n",
              "<table border=\"1\" class=\"dataframe\">\n",
              "  <thead>\n",
              "    <tr style=\"text-align: right;\">\n",
              "      <th></th>\n",
              "      <th>AddressLine1</th>\n",
              "      <th>ModifiedDate</th>\n",
              "    </tr>\n",
              "  </thead>\n",
              "  <tbody>\n",
              "    <tr>\n",
              "      <th>0</th>\n",
              "      <td>1970 Napa Ct.</td>\n",
              "      <td>2007-12-04 00:00:00.000</td>\n",
              "    </tr>\n",
              "    <tr>\n",
              "      <th>1</th>\n",
              "      <td>9833 Mt. Dias Blv.</td>\n",
              "      <td>2008-11-30 00:00:00.000</td>\n",
              "    </tr>\n",
              "    <tr>\n",
              "      <th>2</th>\n",
              "      <td>7484 Roundtree Drive</td>\n",
              "      <td>2013-03-07 00:00:00.000</td>\n",
              "    </tr>\n",
              "    <tr>\n",
              "      <th>3</th>\n",
              "      <td>9539 Glenside Dr</td>\n",
              "      <td>2009-02-03 00:00:00.000</td>\n",
              "    </tr>\n",
              "    <tr>\n",
              "      <th>4</th>\n",
              "      <td>1226 Shoe St.</td>\n",
              "      <td>2008-12-19 00:00:00.000</td>\n",
              "    </tr>\n",
              "  </tbody>\n",
              "</table>\n",
              "</div>"
            ],
            "text/plain": [
              "           AddressLine1             ModifiedDate\n",
              "0         1970 Napa Ct.  2007-12-04 00:00:00.000\n",
              "1    9833 Mt. Dias Blv.  2008-11-30 00:00:00.000\n",
              "2  7484 Roundtree Drive  2013-03-07 00:00:00.000\n",
              "3      9539 Glenside Dr  2009-02-03 00:00:00.000\n",
              "4         1226 Shoe St.  2008-12-19 00:00:00.000"
            ]
          },
          "metadata": {
            "tags": []
          },
          "execution_count": 86
        }
      ]
    },
    {
      "cell_type": "code",
      "metadata": {
        "colab": {
          "base_uri": "https://localhost:8080/"
        },
        "id": "0bTpZngga3rB",
        "outputId": "e3dc133a-6f15-49fa-b2ac-76df0724c238"
      },
      "source": [
        "# Selecionar por notação ponto\n",
        "df.AddressLine1.head()"
      ],
      "execution_count": null,
      "outputs": [
        {
          "output_type": "execute_result",
          "data": {
            "text/plain": [
              "0           1970 Napa Ct.\n",
              "1      9833 Mt. Dias Blv.\n",
              "2    7484 Roundtree Drive\n",
              "3        9539 Glenside Dr\n",
              "4           1226 Shoe St.\n",
              "Name: AddressLine1, dtype: object"
            ]
          },
          "metadata": {
            "tags": []
          },
          "execution_count": 88
        }
      ]
    },
    {
      "cell_type": "code",
      "metadata": {
        "colab": {
          "base_uri": "https://localhost:8080/",
          "height": 204
        },
        "id": "1qXm_ozoa-kC",
        "outputId": "e583ada7-3fc0-4cc5-909c-be54955c22de"
      },
      "source": [
        "# Adionar coluna nova\n",
        "df['Endereço_Completo'] = df['AddressLine1'] + \" - \" + df['City']\n",
        "df.head()"
      ],
      "execution_count": null,
      "outputs": [
        {
          "output_type": "execute_result",
          "data": {
            "text/html": [
              "<div>\n",
              "<style scoped>\n",
              "    .dataframe tbody tr th:only-of-type {\n",
              "        vertical-align: middle;\n",
              "    }\n",
              "\n",
              "    .dataframe tbody tr th {\n",
              "        vertical-align: top;\n",
              "    }\n",
              "\n",
              "    .dataframe thead th {\n",
              "        text-align: right;\n",
              "    }\n",
              "</style>\n",
              "<table border=\"1\" class=\"dataframe\">\n",
              "  <thead>\n",
              "    <tr style=\"text-align: right;\">\n",
              "      <th></th>\n",
              "      <th>AddressID</th>\n",
              "      <th>AddressLine1</th>\n",
              "      <th>AddressLine2</th>\n",
              "      <th>City</th>\n",
              "      <th>StateProvinceID</th>\n",
              "      <th>PostalCode</th>\n",
              "      <th>SpatialLocation</th>\n",
              "      <th>rowguid</th>\n",
              "      <th>ModifiedDate</th>\n",
              "      <th>Endereço_Completo</th>\n",
              "    </tr>\n",
              "  </thead>\n",
              "  <tbody>\n",
              "    <tr>\n",
              "      <th>0</th>\n",
              "      <td>1</td>\n",
              "      <td>1970 Napa Ct.</td>\n",
              "      <td>NaN</td>\n",
              "      <td>Bothell</td>\n",
              "      <td>79</td>\n",
              "      <td>98011</td>\n",
              "      <td>0xE6100000010CAE8BFC28BCE4474067A89189898A5EC0</td>\n",
              "      <td>9AADCB0D-36CF-483F-84D8-585C2D4EC6E9</td>\n",
              "      <td>2007-12-04 00:00:00.000</td>\n",
              "      <td>1970 Napa Ct. - Bothell</td>\n",
              "    </tr>\n",
              "    <tr>\n",
              "      <th>1</th>\n",
              "      <td>2</td>\n",
              "      <td>9833 Mt. Dias Blv.</td>\n",
              "      <td>NaN</td>\n",
              "      <td>Bothell</td>\n",
              "      <td>79</td>\n",
              "      <td>98011</td>\n",
              "      <td>0xE6100000010CD6FA851AE6D74740BC262A0A03905EC0</td>\n",
              "      <td>32A54B9E-E034-4BFB-B573-A71CDE60D8C0</td>\n",
              "      <td>2008-11-30 00:00:00.000</td>\n",
              "      <td>9833 Mt. Dias Blv. - Bothell</td>\n",
              "    </tr>\n",
              "    <tr>\n",
              "      <th>2</th>\n",
              "      <td>3</td>\n",
              "      <td>7484 Roundtree Drive</td>\n",
              "      <td>NaN</td>\n",
              "      <td>Bothell</td>\n",
              "      <td>79</td>\n",
              "      <td>98011</td>\n",
              "      <td>0xE6100000010C18E304C4ADE14740DA930C7893915EC0</td>\n",
              "      <td>4C506923-6D1B-452C-A07C-BAA6F5B142A4</td>\n",
              "      <td>2013-03-07 00:00:00.000</td>\n",
              "      <td>7484 Roundtree Drive - Bothell</td>\n",
              "    </tr>\n",
              "    <tr>\n",
              "      <th>3</th>\n",
              "      <td>4</td>\n",
              "      <td>9539 Glenside Dr</td>\n",
              "      <td>NaN</td>\n",
              "      <td>Bothell</td>\n",
              "      <td>79</td>\n",
              "      <td>98011</td>\n",
              "      <td>0xE6100000010C813A0D5F9FDE474011A5C28A7C955EC0</td>\n",
              "      <td>E5946C78-4BCC-477F-9FA1-CC09DE16A880</td>\n",
              "      <td>2009-02-03 00:00:00.000</td>\n",
              "      <td>9539 Glenside Dr - Bothell</td>\n",
              "    </tr>\n",
              "    <tr>\n",
              "      <th>4</th>\n",
              "      <td>5</td>\n",
              "      <td>1226 Shoe St.</td>\n",
              "      <td>NaN</td>\n",
              "      <td>Bothell</td>\n",
              "      <td>79</td>\n",
              "      <td>98011</td>\n",
              "      <td>0xE6100000010C61C64D8ABBD94740C460EA3FD8855EC0</td>\n",
              "      <td>FBAFF937-4A97-4AF0-81FD-B849900E9BB0</td>\n",
              "      <td>2008-12-19 00:00:00.000</td>\n",
              "      <td>1226 Shoe St. - Bothell</td>\n",
              "    </tr>\n",
              "  </tbody>\n",
              "</table>\n",
              "</div>"
            ],
            "text/plain": [
              "   AddressID  ...               Endereço_Completo\n",
              "0          1  ...         1970 Napa Ct. - Bothell\n",
              "1          2  ...    9833 Mt. Dias Blv. - Bothell\n",
              "2          3  ...  7484 Roundtree Drive - Bothell\n",
              "3          4  ...      9539 Glenside Dr - Bothell\n",
              "4          5  ...         1226 Shoe St. - Bothell\n",
              "\n",
              "[5 rows x 10 columns]"
            ]
          },
          "metadata": {
            "tags": []
          },
          "execution_count": 92
        }
      ]
    },
    {
      "cell_type": "markdown",
      "metadata": {
        "id": "6TfZXMS-edsr"
      },
      "source": [
        "# 4 Usando loc e iloc para selecionar os dados"
      ]
    },
    {
      "cell_type": "code",
      "metadata": {
        "id": "snSwxkVXejkN"
      },
      "source": [
        "# Importando Dados\n",
        "import pandas as pd\n"
      ],
      "execution_count": null,
      "outputs": []
    },
    {
      "cell_type": "code",
      "metadata": {
        "id": "-ojNe78JesHY"
      },
      "source": [
        "# Importando dados do arquivo Excel\n",
        "df = pd.read_excel('/content/drive/MyDrive/Colab Notebooks/Dados/Dados_Excel.xlsx')"
      ],
      "execution_count": null,
      "outputs": []
    },
    {
      "cell_type": "code",
      "metadata": {
        "colab": {
          "base_uri": "https://localhost:8080/"
        },
        "id": "dorvmY_Ae1nr",
        "outputId": "6a8cb4f5-91d7-432a-f68e-4198a65da1bb"
      },
      "source": [
        "# Usando o loc\n",
        "# df.loc[0:3] --> linhas\n",
        "# df.loc[[1,2,4]]\n",
        "df.loc[4:6, 'City']"
      ],
      "execution_count": null,
      "outputs": [
        {
          "output_type": "execute_result",
          "data": {
            "text/plain": [
              "4    Bothell\n",
              "5    Bothell\n",
              "6    Bothell\n",
              "Name: City, dtype: object"
            ]
          },
          "metadata": {
            "tags": []
          },
          "execution_count": 105
        }
      ]
    },
    {
      "cell_type": "code",
      "metadata": {
        "colab": {
          "base_uri": "https://localhost:8080/",
          "height": 142
        },
        "id": "I-7pqoH4e5O7",
        "outputId": "048763f9-c738-4ecb-9074-730cc400533d"
      },
      "source": [
        "# Usando o iloc\n",
        "df.iloc[3:6, 1:4]"
      ],
      "execution_count": null,
      "outputs": [
        {
          "output_type": "execute_result",
          "data": {
            "text/html": [
              "<div>\n",
              "<style scoped>\n",
              "    .dataframe tbody tr th:only-of-type {\n",
              "        vertical-align: middle;\n",
              "    }\n",
              "\n",
              "    .dataframe tbody tr th {\n",
              "        vertical-align: top;\n",
              "    }\n",
              "\n",
              "    .dataframe thead th {\n",
              "        text-align: right;\n",
              "    }\n",
              "</style>\n",
              "<table border=\"1\" class=\"dataframe\">\n",
              "  <thead>\n",
              "    <tr style=\"text-align: right;\">\n",
              "      <th></th>\n",
              "      <th>AddressLine1</th>\n",
              "      <th>AddressLine2</th>\n",
              "      <th>City</th>\n",
              "    </tr>\n",
              "  </thead>\n",
              "  <tbody>\n",
              "    <tr>\n",
              "      <th>3</th>\n",
              "      <td>9539 Glenside Dr</td>\n",
              "      <td>NaN</td>\n",
              "      <td>Bothell</td>\n",
              "    </tr>\n",
              "    <tr>\n",
              "      <th>4</th>\n",
              "      <td>1226 Shoe St.</td>\n",
              "      <td>NaN</td>\n",
              "      <td>Bothell</td>\n",
              "    </tr>\n",
              "    <tr>\n",
              "      <th>5</th>\n",
              "      <td>1399 Firestone Drive</td>\n",
              "      <td>NaN</td>\n",
              "      <td>Bothell</td>\n",
              "    </tr>\n",
              "  </tbody>\n",
              "</table>\n",
              "</div>"
            ],
            "text/plain": [
              "           AddressLine1 AddressLine2     City\n",
              "3      9539 Glenside Dr          NaN  Bothell\n",
              "4         1226 Shoe St.          NaN  Bothell\n",
              "5  1399 Firestone Drive          NaN  Bothell"
            ]
          },
          "metadata": {
            "tags": []
          },
          "execution_count": 106
        }
      ]
    },
    {
      "cell_type": "code",
      "metadata": {
        "colab": {
          "base_uri": "https://localhost:8080/",
          "height": 204
        },
        "id": "Mni6rrBSe7jE",
        "outputId": "8073afcf-e77e-4be5-9e4d-7142fd4a2b9d"
      },
      "source": [
        "df.head()"
      ],
      "execution_count": null,
      "outputs": [
        {
          "output_type": "execute_result",
          "data": {
            "text/html": [
              "<div>\n",
              "<style scoped>\n",
              "    .dataframe tbody tr th:only-of-type {\n",
              "        vertical-align: middle;\n",
              "    }\n",
              "\n",
              "    .dataframe tbody tr th {\n",
              "        vertical-align: top;\n",
              "    }\n",
              "\n",
              "    .dataframe thead th {\n",
              "        text-align: right;\n",
              "    }\n",
              "</style>\n",
              "<table border=\"1\" class=\"dataframe\">\n",
              "  <thead>\n",
              "    <tr style=\"text-align: right;\">\n",
              "      <th></th>\n",
              "      <th>AddressID</th>\n",
              "      <th>AddressLine1</th>\n",
              "      <th>AddressLine2</th>\n",
              "      <th>City</th>\n",
              "      <th>StateProvinceID</th>\n",
              "      <th>PostalCode</th>\n",
              "      <th>SpatialLocation</th>\n",
              "      <th>rowguid</th>\n",
              "      <th>ModifiedDate</th>\n",
              "    </tr>\n",
              "  </thead>\n",
              "  <tbody>\n",
              "    <tr>\n",
              "      <th>0</th>\n",
              "      <td>1</td>\n",
              "      <td>1970 Napa Ct.</td>\n",
              "      <td>NaN</td>\n",
              "      <td>Bothell</td>\n",
              "      <td>79</td>\n",
              "      <td>98011</td>\n",
              "      <td>0xE6100000010CAE8BFC28BCE4474067A89189898A5EC0</td>\n",
              "      <td>9AADCB0D-36CF-483F-84D8-585C2D4EC6E9</td>\n",
              "      <td>2007-12-04 00:00:00.000</td>\n",
              "    </tr>\n",
              "    <tr>\n",
              "      <th>1</th>\n",
              "      <td>2</td>\n",
              "      <td>9833 Mt. Dias Blv.</td>\n",
              "      <td>NaN</td>\n",
              "      <td>Bothell</td>\n",
              "      <td>79</td>\n",
              "      <td>98011</td>\n",
              "      <td>0xE6100000010CD6FA851AE6D74740BC262A0A03905EC0</td>\n",
              "      <td>32A54B9E-E034-4BFB-B573-A71CDE60D8C0</td>\n",
              "      <td>2008-11-30 00:00:00.000</td>\n",
              "    </tr>\n",
              "    <tr>\n",
              "      <th>2</th>\n",
              "      <td>3</td>\n",
              "      <td>7484 Roundtree Drive</td>\n",
              "      <td>NaN</td>\n",
              "      <td>Bothell</td>\n",
              "      <td>79</td>\n",
              "      <td>98011</td>\n",
              "      <td>0xE6100000010C18E304C4ADE14740DA930C7893915EC0</td>\n",
              "      <td>4C506923-6D1B-452C-A07C-BAA6F5B142A4</td>\n",
              "      <td>2013-03-07 00:00:00.000</td>\n",
              "    </tr>\n",
              "    <tr>\n",
              "      <th>3</th>\n",
              "      <td>4</td>\n",
              "      <td>9539 Glenside Dr</td>\n",
              "      <td>NaN</td>\n",
              "      <td>Bothell</td>\n",
              "      <td>79</td>\n",
              "      <td>98011</td>\n",
              "      <td>0xE6100000010C813A0D5F9FDE474011A5C28A7C955EC0</td>\n",
              "      <td>E5946C78-4BCC-477F-9FA1-CC09DE16A880</td>\n",
              "      <td>2009-02-03 00:00:00.000</td>\n",
              "    </tr>\n",
              "    <tr>\n",
              "      <th>4</th>\n",
              "      <td>5</td>\n",
              "      <td>1226 Shoe St.</td>\n",
              "      <td>NaN</td>\n",
              "      <td>Bothell</td>\n",
              "      <td>79</td>\n",
              "      <td>98011</td>\n",
              "      <td>0xE6100000010C61C64D8ABBD94740C460EA3FD8855EC0</td>\n",
              "      <td>FBAFF937-4A97-4AF0-81FD-B849900E9BB0</td>\n",
              "      <td>2008-12-19 00:00:00.000</td>\n",
              "    </tr>\n",
              "  </tbody>\n",
              "</table>\n",
              "</div>"
            ],
            "text/plain": [
              "   AddressID  ...             ModifiedDate\n",
              "0          1  ...  2007-12-04 00:00:00.000\n",
              "1          2  ...  2008-11-30 00:00:00.000\n",
              "2          3  ...  2013-03-07 00:00:00.000\n",
              "3          4  ...  2009-02-03 00:00:00.000\n",
              "4          5  ...  2008-12-19 00:00:00.000\n",
              "\n",
              "[5 rows x 9 columns]"
            ]
          },
          "metadata": {
            "tags": []
          },
          "execution_count": 100
        }
      ]
    },
    {
      "cell_type": "markdown",
      "metadata": {
        "id": "Gizglu_ihv0k"
      },
      "source": [
        "# 5- Ordenando dados usando o sort_values"
      ]
    },
    {
      "cell_type": "code",
      "metadata": {
        "id": "5TPItwD0hx0x"
      },
      "source": [
        "# Importando Dados\n",
        "import pandas as pd"
      ],
      "execution_count": null,
      "outputs": []
    },
    {
      "cell_type": "code",
      "metadata": {
        "id": "sGlDaU1Zh1yY"
      },
      "source": [
        "# Importando dados do arquivo Excel\n",
        "df = pd.read_excel('/content/drive/MyDrive/Colab Notebooks/Dados/Dados_Excel.xlsx')"
      ],
      "execution_count": null,
      "outputs": []
    },
    {
      "cell_type": "code",
      "metadata": {
        "colab": {
          "base_uri": "https://localhost:8080/",
          "height": 204
        },
        "id": "trxw4qyih4ev",
        "outputId": "04eaa406-28d1-4b18-8ce7-086178629a9e"
      },
      "source": [
        "# Usando sort_values\n",
        "df.sort_values('ModifiedDate').head()"
      ],
      "execution_count": null,
      "outputs": [
        {
          "output_type": "execute_result",
          "data": {
            "text/html": [
              "<div>\n",
              "<style scoped>\n",
              "    .dataframe tbody tr th:only-of-type {\n",
              "        vertical-align: middle;\n",
              "    }\n",
              "\n",
              "    .dataframe tbody tr th {\n",
              "        vertical-align: top;\n",
              "    }\n",
              "\n",
              "    .dataframe thead th {\n",
              "        text-align: right;\n",
              "    }\n",
              "</style>\n",
              "<table border=\"1\" class=\"dataframe\">\n",
              "  <thead>\n",
              "    <tr style=\"text-align: right;\">\n",
              "      <th></th>\n",
              "      <th>AddressID</th>\n",
              "      <th>AddressLine1</th>\n",
              "      <th>AddressLine2</th>\n",
              "      <th>City</th>\n",
              "      <th>StateProvinceID</th>\n",
              "      <th>PostalCode</th>\n",
              "      <th>SpatialLocation</th>\n",
              "      <th>rowguid</th>\n",
              "      <th>ModifiedDate</th>\n",
              "    </tr>\n",
              "  </thead>\n",
              "  <tbody>\n",
              "    <tr>\n",
              "      <th>60</th>\n",
              "      <td>61</td>\n",
              "      <td>7726 Driftwood Drive</td>\n",
              "      <td>NaN</td>\n",
              "      <td>Monroe</td>\n",
              "      <td>79</td>\n",
              "      <td>98272</td>\n",
              "      <td>0xE6100000010CC440A386ACE847406C86CCD635785EC0</td>\n",
              "      <td>07373E01-BD99-405A-996A-AB68984423C3</td>\n",
              "      <td>2006-06-23 00:00:00.000</td>\n",
              "    </tr>\n",
              "    <tr>\n",
              "      <th>233</th>\n",
              "      <td>234</td>\n",
              "      <td>7883 Missing Canyon Court</td>\n",
              "      <td>NaN</td>\n",
              "      <td>Everett</td>\n",
              "      <td>79</td>\n",
              "      <td>98201</td>\n",
              "      <td>0xE6100000010CE896045A50FF4740B3B1C33185835EC0</td>\n",
              "      <td>00CBE469-F60B-424F-9A72-E58A32BE138C</td>\n",
              "      <td>2007-01-19 00:00:00.000</td>\n",
              "    </tr>\n",
              "    <tr>\n",
              "      <th>223</th>\n",
              "      <td>224</td>\n",
              "      <td>2137 Birchwood Dr</td>\n",
              "      <td>NaN</td>\n",
              "      <td>Redmond</td>\n",
              "      <td>79</td>\n",
              "      <td>98052</td>\n",
              "      <td>0xE6100000010CEB81660ED7D14740A62E83E4BC915EC0</td>\n",
              "      <td>7F9BC8A0-3972-490C-B888-C4B5EFC9D021</td>\n",
              "      <td>2007-11-04 00:00:00.000</td>\n",
              "    </tr>\n",
              "    <tr>\n",
              "      <th>0</th>\n",
              "      <td>1</td>\n",
              "      <td>1970 Napa Ct.</td>\n",
              "      <td>NaN</td>\n",
              "      <td>Bothell</td>\n",
              "      <td>79</td>\n",
              "      <td>98011</td>\n",
              "      <td>0xE6100000010CAE8BFC28BCE4474067A89189898A5EC0</td>\n",
              "      <td>9AADCB0D-36CF-483F-84D8-585C2D4EC6E9</td>\n",
              "      <td>2007-12-04 00:00:00.000</td>\n",
              "    </tr>\n",
              "    <tr>\n",
              "      <th>213</th>\n",
              "      <td>214</td>\n",
              "      <td>3768 Door Way</td>\n",
              "      <td>NaN</td>\n",
              "      <td>Redmond</td>\n",
              "      <td>79</td>\n",
              "      <td>98052</td>\n",
              "      <td>0xE6100000010C4263FA4502D047403A0F01A8648F5EC0</td>\n",
              "      <td>8C938507-C67C-4E5C-963C-A93FE707980F</td>\n",
              "      <td>2007-12-13 00:00:00.000</td>\n",
              "    </tr>\n",
              "  </tbody>\n",
              "</table>\n",
              "</div>"
            ],
            "text/plain": [
              "     AddressID  ...             ModifiedDate\n",
              "60          61  ...  2006-06-23 00:00:00.000\n",
              "233        234  ...  2007-01-19 00:00:00.000\n",
              "223        224  ...  2007-11-04 00:00:00.000\n",
              "0            1  ...  2007-12-04 00:00:00.000\n",
              "213        214  ...  2007-12-13 00:00:00.000\n",
              "\n",
              "[5 rows x 9 columns]"
            ]
          },
          "metadata": {
            "tags": []
          },
          "execution_count": 110
        }
      ]
    },
    {
      "cell_type": "code",
      "metadata": {
        "colab": {
          "base_uri": "https://localhost:8080/",
          "height": 204
        },
        "id": "3PRBYotbiBgP",
        "outputId": "24950aa8-9343-4ee0-a1d7-62bddb363457"
      },
      "source": [
        "# Ordenar por mais de uma coluna\n",
        "df.sort_values(by =['City', 'AddressID']).head()"
      ],
      "execution_count": null,
      "outputs": [
        {
          "output_type": "execute_result",
          "data": {
            "text/html": [
              "<div>\n",
              "<style scoped>\n",
              "    .dataframe tbody tr th:only-of-type {\n",
              "        vertical-align: middle;\n",
              "    }\n",
              "\n",
              "    .dataframe tbody tr th {\n",
              "        vertical-align: top;\n",
              "    }\n",
              "\n",
              "    .dataframe thead th {\n",
              "        text-align: right;\n",
              "    }\n",
              "</style>\n",
              "<table border=\"1\" class=\"dataframe\">\n",
              "  <thead>\n",
              "    <tr style=\"text-align: right;\">\n",
              "      <th></th>\n",
              "      <th>AddressID</th>\n",
              "      <th>AddressLine1</th>\n",
              "      <th>AddressLine2</th>\n",
              "      <th>City</th>\n",
              "      <th>StateProvinceID</th>\n",
              "      <th>PostalCode</th>\n",
              "      <th>SpatialLocation</th>\n",
              "      <th>rowguid</th>\n",
              "      <th>ModifiedDate</th>\n",
              "    </tr>\n",
              "  </thead>\n",
              "  <tbody>\n",
              "    <tr>\n",
              "      <th>650</th>\n",
              "      <td>651</td>\n",
              "      <td>New Millhouse, 2583 Milton Park</td>\n",
              "      <td>NaN</td>\n",
              "      <td>Abingdon</td>\n",
              "      <td>14</td>\n",
              "      <td>OX14 4SE</td>\n",
              "      <td>0xE6100000010CA30E22D348C74940997460FF5E81F4BF</td>\n",
              "      <td>E844B847-B0B3-491D-A4F1-0B78F56E4424</td>\n",
              "      <td>2013-07-31 00:00:00.000</td>\n",
              "    </tr>\n",
              "    <tr>\n",
              "      <th>365</th>\n",
              "      <td>366</td>\n",
              "      <td>1619 Mills Dr.</td>\n",
              "      <td>NaN</td>\n",
              "      <td>Albany</td>\n",
              "      <td>58</td>\n",
              "      <td>97321</td>\n",
              "      <td>0xE6100000010C128B69C2B55B4640910864B2FAC35EC0</td>\n",
              "      <td>A61B581D-A6DB-4C28-A5A2-FA3FE369BAE3</td>\n",
              "      <td>2012-01-29 00:00:00.000</td>\n",
              "    </tr>\n",
              "    <tr>\n",
              "      <th>375</th>\n",
              "      <td>376</td>\n",
              "      <td>9098 Story Lane</td>\n",
              "      <td>NaN</td>\n",
              "      <td>Albany</td>\n",
              "      <td>54</td>\n",
              "      <td>12210</td>\n",
              "      <td>0xE6100000010C525A3CE36852454094FAB5CD486952C0</td>\n",
              "      <td>4DDA7288-7870-4369-A67B-18CC99DEEBDF</td>\n",
              "      <td>2012-02-02 00:00:00.000</td>\n",
              "    </tr>\n",
              "    <tr>\n",
              "      <th>882</th>\n",
              "      <td>883</td>\n",
              "      <td>Heritage Mall</td>\n",
              "      <td>NaN</td>\n",
              "      <td>Albany</td>\n",
              "      <td>58</td>\n",
              "      <td>97321</td>\n",
              "      <td>0xE6100000010C128B69C2B55B464008C4035A5FD15EC0</td>\n",
              "      <td>CF9C1921-D741-4576-9D32-849E62D57698</td>\n",
              "      <td>2013-05-30 00:00:00.000</td>\n",
              "    </tr>\n",
              "    <tr>\n",
              "      <th>895</th>\n",
              "      <td>896</td>\n",
              "      <td>2255 254th Avenue Se</td>\n",
              "      <td>NaN</td>\n",
              "      <td>Albany</td>\n",
              "      <td>58</td>\n",
              "      <td>97321</td>\n",
              "      <td>0xE6100000010C9C923D96B253464062C467118EC55EC0</td>\n",
              "      <td>77D18072-B99B-4B1E-A9B9-948FA927EFBB</td>\n",
              "      <td>2013-07-31 00:00:00.000</td>\n",
              "    </tr>\n",
              "  </tbody>\n",
              "</table>\n",
              "</div>"
            ],
            "text/plain": [
              "     AddressID  ...             ModifiedDate\n",
              "650        651  ...  2013-07-31 00:00:00.000\n",
              "365        366  ...  2012-01-29 00:00:00.000\n",
              "375        376  ...  2012-02-02 00:00:00.000\n",
              "882        883  ...  2013-05-30 00:00:00.000\n",
              "895        896  ...  2013-07-31 00:00:00.000\n",
              "\n",
              "[5 rows x 9 columns]"
            ]
          },
          "metadata": {
            "tags": []
          },
          "execution_count": 111
        }
      ]
    },
    {
      "cell_type": "code",
      "metadata": {
        "colab": {
          "base_uri": "https://localhost:8080/",
          "height": 204
        },
        "id": "7UcZbWp8jaQH",
        "outputId": "5111e371-69c5-40c8-a8ce-203d26854381"
      },
      "source": [
        "df.sort_values('City', ascending=True).head()"
      ],
      "execution_count": null,
      "outputs": [
        {
          "output_type": "execute_result",
          "data": {
            "text/html": [
              "<div>\n",
              "<style scoped>\n",
              "    .dataframe tbody tr th:only-of-type {\n",
              "        vertical-align: middle;\n",
              "    }\n",
              "\n",
              "    .dataframe tbody tr th {\n",
              "        vertical-align: top;\n",
              "    }\n",
              "\n",
              "    .dataframe thead th {\n",
              "        text-align: right;\n",
              "    }\n",
              "</style>\n",
              "<table border=\"1\" class=\"dataframe\">\n",
              "  <thead>\n",
              "    <tr style=\"text-align: right;\">\n",
              "      <th></th>\n",
              "      <th>AddressID</th>\n",
              "      <th>AddressLine1</th>\n",
              "      <th>AddressLine2</th>\n",
              "      <th>City</th>\n",
              "      <th>StateProvinceID</th>\n",
              "      <th>PostalCode</th>\n",
              "      <th>SpatialLocation</th>\n",
              "      <th>rowguid</th>\n",
              "      <th>ModifiedDate</th>\n",
              "    </tr>\n",
              "  </thead>\n",
              "  <tbody>\n",
              "    <tr>\n",
              "      <th>650</th>\n",
              "      <td>651</td>\n",
              "      <td>New Millhouse, 2583 Milton Park</td>\n",
              "      <td>NaN</td>\n",
              "      <td>Abingdon</td>\n",
              "      <td>14</td>\n",
              "      <td>OX14 4SE</td>\n",
              "      <td>0xE6100000010CA30E22D348C74940997460FF5E81F4BF</td>\n",
              "      <td>E844B847-B0B3-491D-A4F1-0B78F56E4424</td>\n",
              "      <td>2013-07-31 00:00:00.000</td>\n",
              "    </tr>\n",
              "    <tr>\n",
              "      <th>365</th>\n",
              "      <td>366</td>\n",
              "      <td>1619 Mills Dr.</td>\n",
              "      <td>NaN</td>\n",
              "      <td>Albany</td>\n",
              "      <td>58</td>\n",
              "      <td>97321</td>\n",
              "      <td>0xE6100000010C128B69C2B55B4640910864B2FAC35EC0</td>\n",
              "      <td>A61B581D-A6DB-4C28-A5A2-FA3FE369BAE3</td>\n",
              "      <td>2012-01-29 00:00:00.000</td>\n",
              "    </tr>\n",
              "    <tr>\n",
              "      <th>375</th>\n",
              "      <td>376</td>\n",
              "      <td>9098 Story Lane</td>\n",
              "      <td>NaN</td>\n",
              "      <td>Albany</td>\n",
              "      <td>54</td>\n",
              "      <td>12210</td>\n",
              "      <td>0xE6100000010C525A3CE36852454094FAB5CD486952C0</td>\n",
              "      <td>4DDA7288-7870-4369-A67B-18CC99DEEBDF</td>\n",
              "      <td>2012-02-02 00:00:00.000</td>\n",
              "    </tr>\n",
              "    <tr>\n",
              "      <th>882</th>\n",
              "      <td>883</td>\n",
              "      <td>Heritage Mall</td>\n",
              "      <td>NaN</td>\n",
              "      <td>Albany</td>\n",
              "      <td>58</td>\n",
              "      <td>97321</td>\n",
              "      <td>0xE6100000010C128B69C2B55B464008C4035A5FD15EC0</td>\n",
              "      <td>CF9C1921-D741-4576-9D32-849E62D57698</td>\n",
              "      <td>2013-05-30 00:00:00.000</td>\n",
              "    </tr>\n",
              "    <tr>\n",
              "      <th>895</th>\n",
              "      <td>896</td>\n",
              "      <td>2255 254th Avenue Se</td>\n",
              "      <td>NaN</td>\n",
              "      <td>Albany</td>\n",
              "      <td>58</td>\n",
              "      <td>97321</td>\n",
              "      <td>0xE6100000010C9C923D96B253464062C467118EC55EC0</td>\n",
              "      <td>77D18072-B99B-4B1E-A9B9-948FA927EFBB</td>\n",
              "      <td>2013-07-31 00:00:00.000</td>\n",
              "    </tr>\n",
              "  </tbody>\n",
              "</table>\n",
              "</div>"
            ],
            "text/plain": [
              "     AddressID  ...             ModifiedDate\n",
              "650        651  ...  2013-07-31 00:00:00.000\n",
              "365        366  ...  2012-01-29 00:00:00.000\n",
              "375        376  ...  2012-02-02 00:00:00.000\n",
              "882        883  ...  2013-05-30 00:00:00.000\n",
              "895        896  ...  2013-07-31 00:00:00.000\n",
              "\n",
              "[5 rows x 9 columns]"
            ]
          },
          "metadata": {
            "tags": []
          },
          "execution_count": 115
        }
      ]
    },
    {
      "cell_type": "code",
      "metadata": {
        "id": "LsihuMHaj4yf"
      },
      "source": [
        ""
      ],
      "execution_count": null,
      "outputs": []
    },
    {
      "cell_type": "markdown",
      "metadata": {
        "id": "8vLmHJ6GmK-y"
      },
      "source": [
        "# 6 - sando Filter para selecionar colunas"
      ]
    },
    {
      "cell_type": "code",
      "metadata": {
        "colab": {
          "base_uri": "https://localhost:8080/",
          "height": 204
        },
        "id": "Z0SrkO3FmSgF",
        "outputId": "1cf69298-b00c-42f4-d788-4332d6ac3835"
      },
      "source": [
        "# Usando Itens\n",
        "df.filter(items= ['AddressID', 'City']).head()"
      ],
      "execution_count": null,
      "outputs": [
        {
          "output_type": "execute_result",
          "data": {
            "text/html": [
              "<div>\n",
              "<style scoped>\n",
              "    .dataframe tbody tr th:only-of-type {\n",
              "        vertical-align: middle;\n",
              "    }\n",
              "\n",
              "    .dataframe tbody tr th {\n",
              "        vertical-align: top;\n",
              "    }\n",
              "\n",
              "    .dataframe thead th {\n",
              "        text-align: right;\n",
              "    }\n",
              "</style>\n",
              "<table border=\"1\" class=\"dataframe\">\n",
              "  <thead>\n",
              "    <tr style=\"text-align: right;\">\n",
              "      <th></th>\n",
              "      <th>AddressID</th>\n",
              "      <th>City</th>\n",
              "    </tr>\n",
              "  </thead>\n",
              "  <tbody>\n",
              "    <tr>\n",
              "      <th>0</th>\n",
              "      <td>1</td>\n",
              "      <td>Bothell</td>\n",
              "    </tr>\n",
              "    <tr>\n",
              "      <th>1</th>\n",
              "      <td>2</td>\n",
              "      <td>Bothell</td>\n",
              "    </tr>\n",
              "    <tr>\n",
              "      <th>2</th>\n",
              "      <td>3</td>\n",
              "      <td>Bothell</td>\n",
              "    </tr>\n",
              "    <tr>\n",
              "      <th>3</th>\n",
              "      <td>4</td>\n",
              "      <td>Bothell</td>\n",
              "    </tr>\n",
              "    <tr>\n",
              "      <th>4</th>\n",
              "      <td>5</td>\n",
              "      <td>Bothell</td>\n",
              "    </tr>\n",
              "  </tbody>\n",
              "</table>\n",
              "</div>"
            ],
            "text/plain": [
              "   AddressID     City\n",
              "0          1  Bothell\n",
              "1          2  Bothell\n",
              "2          3  Bothell\n",
              "3          4  Bothell\n",
              "4          5  Bothell"
            ]
          },
          "metadata": {
            "tags": []
          },
          "execution_count": 118
        }
      ]
    },
    {
      "cell_type": "code",
      "metadata": {
        "colab": {
          "base_uri": "https://localhost:8080/",
          "height": 204
        },
        "id": "k5emBSq3m239",
        "outputId": "6fdd3a7d-2466-4f65-a181-f935d469f107"
      },
      "source": [
        "# Usando like\n",
        "df.filter(like='Cit').head()"
      ],
      "execution_count": null,
      "outputs": [
        {
          "output_type": "execute_result",
          "data": {
            "text/html": [
              "<div>\n",
              "<style scoped>\n",
              "    .dataframe tbody tr th:only-of-type {\n",
              "        vertical-align: middle;\n",
              "    }\n",
              "\n",
              "    .dataframe tbody tr th {\n",
              "        vertical-align: top;\n",
              "    }\n",
              "\n",
              "    .dataframe thead th {\n",
              "        text-align: right;\n",
              "    }\n",
              "</style>\n",
              "<table border=\"1\" class=\"dataframe\">\n",
              "  <thead>\n",
              "    <tr style=\"text-align: right;\">\n",
              "      <th></th>\n",
              "      <th>City</th>\n",
              "    </tr>\n",
              "  </thead>\n",
              "  <tbody>\n",
              "    <tr>\n",
              "      <th>0</th>\n",
              "      <td>Bothell</td>\n",
              "    </tr>\n",
              "    <tr>\n",
              "      <th>1</th>\n",
              "      <td>Bothell</td>\n",
              "    </tr>\n",
              "    <tr>\n",
              "      <th>2</th>\n",
              "      <td>Bothell</td>\n",
              "    </tr>\n",
              "    <tr>\n",
              "      <th>3</th>\n",
              "      <td>Bothell</td>\n",
              "    </tr>\n",
              "    <tr>\n",
              "      <th>4</th>\n",
              "      <td>Bothell</td>\n",
              "    </tr>\n",
              "  </tbody>\n",
              "</table>\n",
              "</div>"
            ],
            "text/plain": [
              "      City\n",
              "0  Bothell\n",
              "1  Bothell\n",
              "2  Bothell\n",
              "3  Bothell\n",
              "4  Bothell"
            ]
          },
          "metadata": {
            "tags": []
          },
          "execution_count": 120
        }
      ]
    },
    {
      "cell_type": "code",
      "metadata": {
        "colab": {
          "base_uri": "https://localhost:8080/",
          "height": 187
        },
        "id": "qiMck3PbnLce",
        "outputId": "e4c4dde7-ff8e-42e5-93bf-6f570fc38b09"
      },
      "source": [
        "# usnado regex\n",
        "df.filter(regex='.S.').head()"
      ],
      "execution_count": null,
      "outputs": [
        {
          "output_type": "execute_result",
          "data": {
            "text/html": [
              "<div>\n",
              "<style scoped>\n",
              "    .dataframe tbody tr th:only-of-type {\n",
              "        vertical-align: middle;\n",
              "    }\n",
              "\n",
              "    .dataframe tbody tr th {\n",
              "        vertical-align: top;\n",
              "    }\n",
              "\n",
              "    .dataframe thead th {\n",
              "        text-align: right;\n",
              "    }\n",
              "</style>\n",
              "<table border=\"1\" class=\"dataframe\">\n",
              "  <thead>\n",
              "    <tr style=\"text-align: right;\">\n",
              "      <th></th>\n",
              "    </tr>\n",
              "  </thead>\n",
              "  <tbody>\n",
              "    <tr>\n",
              "      <th>0</th>\n",
              "    </tr>\n",
              "    <tr>\n",
              "      <th>1</th>\n",
              "    </tr>\n",
              "    <tr>\n",
              "      <th>2</th>\n",
              "    </tr>\n",
              "    <tr>\n",
              "      <th>3</th>\n",
              "    </tr>\n",
              "    <tr>\n",
              "      <th>4</th>\n",
              "    </tr>\n",
              "  </tbody>\n",
              "</table>\n",
              "</div>"
            ],
            "text/plain": [
              "Empty DataFrame\n",
              "Columns: []\n",
              "Index: [0, 1, 2, 3, 4]"
            ]
          },
          "metadata": {
            "tags": []
          },
          "execution_count": 121
        }
      ]
    },
    {
      "cell_type": "code",
      "metadata": {
        "id": "1d4iSc9Jnb94"
      },
      "source": [
        ""
      ],
      "execution_count": null,
      "outputs": []
    }
  ]
}